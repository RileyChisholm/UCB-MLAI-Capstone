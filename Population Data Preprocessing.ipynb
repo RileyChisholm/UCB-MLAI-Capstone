{
 "cells": [
  {
   "cell_type": "code",
   "execution_count": 1,
   "id": "dcb8e7d9",
   "metadata": {},
   "outputs": [],
   "source": [
    "import pandas as pd\n",
    "import numpy as np"
   ]
  },
  {
   "cell_type": "code",
   "execution_count": 2,
   "id": "6ceb81fa",
   "metadata": {},
   "outputs": [],
   "source": [
    "# Define the known population data for each city\n",
    "populations = {\n",
    "    \"New York\": {\n",
    "        1970: 7894862, 1980: 7071639, 1990: 7322564, 2000: 8008278, 2010: 8175133, 2020: 8336817\n",
    "    },\n",
    "    \"Los Angeles\": {\n",
    "        1970: 2816061, 1980: 2966850, 1990: 3485398, 2000: 3694820, 2010: 3792621, 2020: 3980404\n",
    "    },\n",
    "    \"Seattle\": {\n",
    "        1970: 530831, 1980: 493846, 1990: 516259, 2000: 563374, 2010: 608660, 2020: 737015\n",
    "    },\n",
    "    \"Houston\": {\n",
    "        1970: 1232802, 1980: 1595138, 1990: 1630553, 2000: 1953631, 2010: 2099451, 2020: 2320268\n",
    "    },\n",
    "    \"Phoenix\": {\n",
    "        1970: 581562, 1980: 789704, 1990: 983403, 2000: 1321045, 2010: 1445632, 2020: 1680992\n",
    "    },\n",
    "    \"Philadelphia\": {\n",
    "        1970: 1948609, 1980: 1688210, 1990: 1585577, 2000: 1517550, 2010: 1526006, 2020: 1603797\n",
    "    },\n",
    "    \"San Antonio\": {\n",
    "        1970: 654153, 1980: 786023, 1990: 935933, 2000: 1144646, 2010: 1327407, 2020: 1547253\n",
    "    },\n",
    "    \"San Diego\": {\n",
    "        1970: 696769, 1980: 875538, 1990: 1110549, 2000: 1223400, 2010: 1307402, 2020: 1415000\n",
    "    },\n",
    "    \"Dallas\": {\n",
    "        1970: 844401, 1980: 904078, 1990: 1000335, 2000: 1188580, 2010: 1197816, 2020: 1343573\n",
    "    },\n",
    "    \"Jacksonville\": {\n",
    "        1970: 528865, 1980: 540920, 1990: 635230, 2000: 735617, 2010: 821784, 2020: 949611\n",
    "    }\n",
    "}"
   ]
  },
  {
   "cell_type": "code",
   "execution_count": 3,
   "id": "fae1a810",
   "metadata": {},
   "outputs": [],
   "source": [
    "# Define the range of years\n",
    "years = np.arange(1970, 2024)"
   ]
  },
  {
   "cell_type": "code",
   "execution_count": 4,
   "id": "6da19ea5",
   "metadata": {},
   "outputs": [],
   "source": [
    "# Initialize the empty DataFrame\n",
    "all_data = pd.DataFrame()"
   ]
  },
  {
   "cell_type": "code",
   "execution_count": 5,
   "id": "e955afe9",
   "metadata": {},
   "outputs": [],
   "source": [
    "# Loop through each city and process the data\n",
    "for city, data in populations.items():\n",
    "    df = pd.DataFrame(list(data.items()), columns=['Year', 'Population'])\n",
    "    df = df.set_index('Year').reindex(years).interpolate(method='linear')\n",
    "    df['City'] = city\n",
    "    all_data = pd.concat([all_data, df.reset_index()], ignore_index=True)\n"
   ]
  },
  {
   "cell_type": "code",
   "execution_count": 6,
   "id": "12e2d109",
   "metadata": {},
   "outputs": [],
   "source": [
    "# Reformat DataFrame\n",
    "all_data = all_data[['Year', 'City', 'Population']]"
   ]
  },
  {
   "cell_type": "code",
   "execution_count": 7,
   "id": "fcfff8d5",
   "metadata": {
    "scrolled": true
   },
   "outputs": [
    {
     "data": {
      "text/html": [
       "<div>\n",
       "<style scoped>\n",
       "    .dataframe tbody tr th:only-of-type {\n",
       "        vertical-align: middle;\n",
       "    }\n",
       "\n",
       "    .dataframe tbody tr th {\n",
       "        vertical-align: top;\n",
       "    }\n",
       "\n",
       "    .dataframe thead th {\n",
       "        text-align: right;\n",
       "    }\n",
       "</style>\n",
       "<table border=\"1\" class=\"dataframe\">\n",
       "  <thead>\n",
       "    <tr style=\"text-align: right;\">\n",
       "      <th></th>\n",
       "      <th>Year</th>\n",
       "      <th>City</th>\n",
       "      <th>Population</th>\n",
       "    </tr>\n",
       "  </thead>\n",
       "  <tbody>\n",
       "    <tr>\n",
       "      <th>0</th>\n",
       "      <td>1970</td>\n",
       "      <td>New York</td>\n",
       "      <td>7894862.0</td>\n",
       "    </tr>\n",
       "    <tr>\n",
       "      <th>1</th>\n",
       "      <td>1971</td>\n",
       "      <td>New York</td>\n",
       "      <td>7812539.7</td>\n",
       "    </tr>\n",
       "    <tr>\n",
       "      <th>2</th>\n",
       "      <td>1972</td>\n",
       "      <td>New York</td>\n",
       "      <td>7730217.4</td>\n",
       "    </tr>\n",
       "    <tr>\n",
       "      <th>3</th>\n",
       "      <td>1973</td>\n",
       "      <td>New York</td>\n",
       "      <td>7647895.1</td>\n",
       "    </tr>\n",
       "    <tr>\n",
       "      <th>4</th>\n",
       "      <td>1974</td>\n",
       "      <td>New York</td>\n",
       "      <td>7565572.8</td>\n",
       "    </tr>\n",
       "    <tr>\n",
       "      <th>...</th>\n",
       "      <td>...</td>\n",
       "      <td>...</td>\n",
       "      <td>...</td>\n",
       "    </tr>\n",
       "    <tr>\n",
       "      <th>535</th>\n",
       "      <td>2019</td>\n",
       "      <td>Jacksonville</td>\n",
       "      <td>936828.3</td>\n",
       "    </tr>\n",
       "    <tr>\n",
       "      <th>536</th>\n",
       "      <td>2020</td>\n",
       "      <td>Jacksonville</td>\n",
       "      <td>949611.0</td>\n",
       "    </tr>\n",
       "    <tr>\n",
       "      <th>537</th>\n",
       "      <td>2021</td>\n",
       "      <td>Jacksonville</td>\n",
       "      <td>949611.0</td>\n",
       "    </tr>\n",
       "    <tr>\n",
       "      <th>538</th>\n",
       "      <td>2022</td>\n",
       "      <td>Jacksonville</td>\n",
       "      <td>949611.0</td>\n",
       "    </tr>\n",
       "    <tr>\n",
       "      <th>539</th>\n",
       "      <td>2023</td>\n",
       "      <td>Jacksonville</td>\n",
       "      <td>949611.0</td>\n",
       "    </tr>\n",
       "  </tbody>\n",
       "</table>\n",
       "<p>540 rows × 3 columns</p>\n",
       "</div>"
      ],
      "text/plain": [
       "     Year          City  Population\n",
       "0    1970      New York   7894862.0\n",
       "1    1971      New York   7812539.7\n",
       "2    1972      New York   7730217.4\n",
       "3    1973      New York   7647895.1\n",
       "4    1974      New York   7565572.8\n",
       "..    ...           ...         ...\n",
       "535  2019  Jacksonville    936828.3\n",
       "536  2020  Jacksonville    949611.0\n",
       "537  2021  Jacksonville    949611.0\n",
       "538  2022  Jacksonville    949611.0\n",
       "539  2023  Jacksonville    949611.0\n",
       "\n",
       "[540 rows x 3 columns]"
      ]
     },
     "execution_count": 7,
     "metadata": {},
     "output_type": "execute_result"
    }
   ],
   "source": [
    "all_data"
   ]
  },
  {
   "cell_type": "code",
   "execution_count": 8,
   "id": "9696ddf2",
   "metadata": {},
   "outputs": [],
   "source": [
    "# Save DataFrame to CSV file\n",
    "# all_data.to_csv('/Users/rileychisholm/Downloads/population_data.csv', index=False)"
   ]
  }
 ],
 "metadata": {
  "kernelspec": {
   "display_name": "Python 3 (ipykernel)",
   "language": "python",
   "name": "python3"
  },
  "language_info": {
   "codemirror_mode": {
    "name": "ipython",
    "version": 3
   },
   "file_extension": ".py",
   "mimetype": "text/x-python",
   "name": "python",
   "nbconvert_exporter": "python",
   "pygments_lexer": "ipython3",
   "version": "3.11.5"
  }
 },
 "nbformat": 4,
 "nbformat_minor": 5
}
